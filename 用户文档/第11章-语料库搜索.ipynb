{
 "cells": [
  {
   "cell_type": "markdown",
   "metadata": {},
   "source": [
    "music21的重要功能之一是它能够帮助用户检查大型音乐作品或语料库。\n",
    "\n",
    "Music21带有一个称为核心语料库的实质性语料库。当您下载音乐21时，您可以立即开始使用corpus目录中的文件，包括完整的巴赫合唱，许多海顿和贝多芬弦乐四重奏，三本Monteverdi的悲歌，来自埃森的数千首民歌以及各种ABC数据库，还有很多。\n",
    "\n",
    "要从语料库加载文件，只需调用corpus.parse并将该文件分配给变量："
   ]
  },
  {
   "cell_type": "code",
   "execution_count": 1,
   "metadata": {},
   "outputs": [],
   "source": [
    "from music21 import *\n",
    "bach = corpus.parse('bach/bwv66.6')"
   ]
  },
  {
   "cell_type": "markdown",
   "metadata": {},
   "source": [
    "该music21核心语料库配有成千上万的作品。所有这些（或至少所有集合）都在“ Corpus Reference”上列出 。\n",
    "\n",
    "用户还可以构建自己的语料库以建立索引，并在磁盘上快速搜索自己的集合，包括多个本地语料库，以查找可以单独访问的不同项目。\n",
    "\n",
    "该用户指南将涵盖有关语料库基本功能的更多信息。本章重点介绍用于提取有用的元数据的music21的工具-标题，位置，作曲家的姓名，每首作品中使用的键号，总时长，模糊度（范围）等。\n",
    "\n",
    "该元数据收集在每个语料库的元数据包中。该 语料库模块工具来搜索这些包，并坚持他们磁盘后来的研究。\n",
    "\n",
    "### 语料库的类型\n",
    "Music21使用三种语料库，通过corpus.Corpus抽象类使之明确 。\n",
    "\n",
    "第一类是核心语料库，它是包含大多数音乐21装置的大量音乐作品的集合，其中包括许多来自惯例时代的作品以及无数的民歌，其形式多样："
   ]
  },
  {
   "cell_type": "code",
   "execution_count": 2,
   "metadata": {},
   "outputs": [
    {
     "data": {
      "text/plain": [
       "3189"
      ]
     },
     "execution_count": 2,
     "metadata": {},
     "output_type": "execute_result"
    }
   ],
   "source": [
    "coreCorpus = corpus.corpora.CoreCorpus()\n",
    "len(coreCorpus.getPaths())"
   ]
  },
  {
   "cell_type": "markdown",
   "metadata": {},
   "source": [
    "注意\n",
    "\n",
    "如果您已经安装了“无语料库”版本的music21，您仍然可以通过少量工作来访问核心语料库。从music21的网站下载核心语料库，然后将其安装在系统上的某个位置。然后，教出Music21的安装位置，如下所示："
   ]
  },
  {
   "cell_type": "markdown",
   "metadata": {},
   "source": [
    "coreCorpus = corpus.corpora.CoreCorpus()\n",
    "coreCorpus.manualCoreCorpusPath = 'path/to/core/corpus'"
   ]
  },
  {
   "cell_type": "markdown",
   "metadata": {},
   "source": [
    "### 本地语料库\n",
    "Music21音乐也可以拥有一个或多个本地音乐作品集，这些音乐作品是由个人音乐用户提供和配置的，用于他们自己的研究。它们将在 第53章中介绍。任何想要使用它们的人都可以立即跳到该章节，但是现在，我们将继续搜索核心语料库。"
   ]
  },
  {
   "cell_type": "code",
   "execution_count": null,
   "metadata": {},
   "outputs": [],
   "source": [
    "localCorpus = corpus.corpora.LocalCorpus()\n"
   ]
  }
 ],
 "metadata": {
  "kernelspec": {
   "display_name": "Python 3",
   "language": "python",
   "name": "python3"
  },
  "language_info": {
   "codemirror_mode": {
    "name": "ipython",
    "version": 3
   },
   "file_extension": ".py",
   "mimetype": "text/x-python",
   "name": "python",
   "nbconvert_exporter": "python",
   "pygments_lexer": "ipython3",
   "version": "3.5.2"
  }
 },
 "nbformat": 4,
 "nbformat_minor": 4
}
