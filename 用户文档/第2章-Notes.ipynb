{
 "cells": [
  {
   "cell_type": "markdown",
   "metadata": {},
   "source": [
    "### 第二章：Notes\n",
    "\n",
    "音乐是由一堆音符组成的，他们一个接一个地排列在一起，还有更多别的东西，如谱号、调号等等。但音乐的核心是音符。因此想要获取音乐的任何信息，都需要知道music21工具包如何定义并使用Notw的\n",
    "\n",
    "\n",
    "### 创建和使用\n",
    "标准音符的music21概念包含在`Note`对象中，该对象在note 模块中找到。在note模块中，除了以外还有其他类`note.Note`。最重要的是`note.Rest`，正如您想象的那样，它代表了休息。如果我们使用以下命令加载music21："
   ]
  },
  {
   "cell_type": "code",
   "execution_count": 1,
   "metadata": {},
   "outputs": [],
   "source": [
    "from music21 import *"
   ]
  },
  {
   "cell_type": "markdown",
   "metadata": {},
   "source": [
    "那么您现在只需在任何命令行中键入`note`即可访问该模块 。"
   ]
  },
  {
   "cell_type": "code",
   "execution_count": 2,
   "metadata": {},
   "outputs": [
    {
     "data": {
      "text/plain": [
       "<module 'music21.note' from 'd:\\\\program files\\\\python\\\\python35\\\\lib\\\\site-packages\\\\music21\\\\note.py'>"
      ]
     },
     "execution_count": 2,
     "metadata": {},
     "output_type": "execute_result"
    }
   ],
   "source": [
    "note "
   ]
  },
  {
   "cell_type": "markdown",
   "metadata": {},
   "source": [
    "如果您收到类似上面这样的信息，则说明可以访问模块`note`。d:\\\\program files ...之后的文件名会有所不同。它将向您显示在哪里安装了music21（如果您忘记在哪里安装了music21，可以通过这种方式找到），只要它以note.pyc或note.py或类似的东西结尾，就可以了。\n",
    "\n",
    "如果您想知道note除Note和Rest对象之外该模块还包含什么，可以键入` dir(note)`来打印出来："
   ]
  },
  {
   "cell_type": "code",
   "execution_count": 3,
   "metadata": {},
   "outputs": [
    {
     "data": {
      "text/plain": [
       "['GeneralNote',\n",
       " 'Lyric',\n",
       " 'LyricException',\n",
       " 'NotRest',\n",
       " 'NotRestException',\n",
       " 'Note',\n",
       " 'NoteException',\n",
       " 'Rest',\n",
       " 'SpacerRest',\n",
       " 'Test',\n",
       " 'TestExternal',\n",
       " 'Unpitched',\n",
       " '_DOC_ORDER',\n",
       " '_MOD',\n",
       " '__builtins__',\n",
       " '__cached__',\n",
       " '__doc__',\n",
       " '__file__',\n",
       " '__loader__',\n",
       " '__name__',\n",
       " '__package__',\n",
       " '__spec__',\n",
       " 'base',\n",
       " 'beam',\n",
       " 'common',\n",
       " 'copy',\n",
       " 'duration',\n",
       " 'environLocal',\n",
       " 'environment',\n",
       " 'exceptions21',\n",
       " 'expressions',\n",
       " 'interval',\n",
       " 'noteheadTypeNames',\n",
       " 'pitch',\n",
       " 'stemDirectionNames',\n",
       " 'style',\n",
       " 'tie',\n",
       " 'unittest',\n",
       " 'volume']"
      ]
     },
     "execution_count": 3,
     "metadata": {},
     "output_type": "execute_result"
    }
   ],
   "source": [
    "dir(note)"
   ]
  },
  {
   "cell_type": "markdown",
   "metadata": {},
   "source": [
    "此列表中的大写单词表示内容是注释类–。其他类是我们以后将要讲到的东西，例如 `Lyric`对象。\n",
    "\n",
    "现在我们已经足够了解这个模块和对象了。让我们创建一个`note.Note`的对象，试试`F5`"
   ]
  },
  {
   "cell_type": "code",
   "execution_count": 4,
   "metadata": {},
   "outputs": [],
   "source": [
    "f = note.Note(\"F5\")"
   ]
  },
  {
   "cell_type": "markdown",
   "metadata": {},
   "source": [
    "我们有一个约定：中音do是C4, 高一个八度的是C5，以此类推\n",
    "\n",
    "现在你有了一个`Note`，这是啥？他现在知识一个存在f里面的对象。可以直接输入`f`进行验证"
   ]
  },
  {
   "cell_type": "code",
   "execution_count": 5,
   "metadata": {},
   "outputs": [
    {
     "data": {
      "text/plain": [
       "<music21.note.Note F>"
      ]
     },
     "execution_count": 5,
     "metadata": {},
     "output_type": "execute_result"
    }
   ],
   "source": [
    "f"
   ]
  },
  {
   "cell_type": "markdown",
   "metadata": {},
   "source": [
    "我们还可以看到他实际上是处于第五个八度位置的F，可以通过请求`nam`和`octave`对象来进行验证\n"
   ]
  },
  {
   "cell_type": "code",
   "execution_count": 6,
   "metadata": {},
   "outputs": [
    {
     "data": {
      "text/plain": [
       "'F'"
      ]
     },
     "execution_count": 6,
     "metadata": {},
     "output_type": "execute_result"
    }
   ],
   "source": [
    "f.name"
   ]
  },
  {
   "cell_type": "code",
   "execution_count": 7,
   "metadata": {},
   "outputs": [
    {
     "data": {
      "text/plain": [
       "5"
      ]
     },
     "execution_count": 7,
     "metadata": {},
     "output_type": "execute_result"
    }
   ],
   "source": [
    "f.octave"
   ]
  },
  {
   "cell_type": "markdown",
   "metadata": {},
   "source": [
    "还有一个属性`pitch`会返回两者的混合结果"
   ]
  },
  {
   "cell_type": "code",
   "execution_count": 8,
   "metadata": {},
   "outputs": [
    {
     "data": {
      "text/plain": [
       "<music21.pitch.Pitch F5>"
      ]
     },
     "execution_count": 8,
     "metadata": {},
     "output_type": "execute_result"
    }
   ],
   "source": [
    "f.pitch"
   ]
  },
  {
   "cell_type": "markdown",
   "metadata": {},
   "source": [
    "当然，上面告诉你的都是已知的内容！让我们试试输出直接看不出来的信息。其中一些是子属性，也就是属性的属性，需要用两个`.`来访问。比如pitch属性的字书写`frequency`以及`pitchClassString`"
   ]
  },
  {
   "cell_type": "code",
   "execution_count": 9,
   "metadata": {},
   "outputs": [
    {
     "name": "stdout",
     "output_type": "stream",
     "text": [
      "698.456462866008\n",
      "5\n"
     ]
    }
   ],
   "source": [
    "print(f.pitch.frequency)\n",
    "print(f.pitch.pitchClassString)"
   ]
  },
  {
   "cell_type": "markdown",
   "metadata": {},
   "source": [
    "这看上去好多了！我们现在知道了f的频率是698Hz(当标准音A4 = 440Hz的时候)，以及它处于音调(pitch)的第5位(C = 0,C#/Db = 1,以此类推)\n",
    "\n",
    "现在我们注意以下几点：\n",
    "1. 您的frequency数字可能更多，而不是以\"...\"结尾。我给了我\"698.456462866008\"。在文档中，有时我们会写\"…\"，而不是输入所有这些数字（或长字符串）。这部分是节省空间的一种方式，并且还因为计算机的长整数甚至最后几位数的长度会有所不同，具体取决于它是32位还是64位，Mac或PC，去年秋天的黑子数，等等。由于我不知道您使用的是哪台计算机，因此如果结果略有不同，请不要担心。\n",
    "2. 我们可以观察到`f.name`的输出是有单引号的，这表示他是个字符串，而`f.octave`的输出没有任何别的东西，说明他返回的是一个数字。在pthon中，字符串和数字的区别是很大的。对于返回字符串的`f.pitch.pitchClassString`，我们也单独设置了一个属性`f.pitch.pitchClass`用来返回数字\n",
    "\n",
    "刚才我们处理的都是像F一样的基本音(nature)，但是对于Bb来说，它的`pitchClass`是10，并且`pitchClassString `是A，这就有很大的不同了。"
   ]
  },
  {
   "cell_type": "code",
   "execution_count": 10,
   "metadata": {},
   "outputs": [
    {
     "data": {
      "text/plain": [
       "'A'"
      ]
     },
     "execution_count": 10,
     "metadata": {},
     "output_type": "execute_result"
    }
   ],
   "source": [
    "B = note.Note('Bb')\n",
    "B.pitch.pitchClassString"
   ]
  },
  {
   "cell_type": "markdown",
   "metadata": {},
   "source": [
    " 让我们继续去看Bb是怎么一回事。在`music21`中，升音就是我们所熟知的`#`，而降音则是`-`，因为这很难把`b`和符号`flat`区分开，因此我们将Bb表示成："
   ]
  },
  {
   "cell_type": "code",
   "execution_count": 36,
   "metadata": {},
   "outputs": [],
   "source": [
    "bflat = note.Note(\"B-2\")"
   ]
  },
  {
   "cell_type": "markdown",
   "metadata": {},
   "source": [
    "这里的命名是bflat，当然，你也可以叫Bb或者b_flat，这不重要。\n",
    "\n",
    "由于刚才我们创建了一个\"临时符(accidental)\"，我们可以通过`.oath.accidental`子属性来获取"
   ]
  },
  {
   "cell_type": "code",
   "execution_count": 12,
   "metadata": {},
   "outputs": [
    {
     "data": {
      "text/plain": [
       "<accidental flat>"
      ]
     },
     "execution_count": 12,
     "metadata": {},
     "output_type": "execute_result"
    }
   ],
   "source": [
    "bflat.pitch.accidental"
   ]
  },
  {
   "cell_type": "markdown",
   "metadata": {},
   "source": [
    "accidental的输出结果是一个不是数字也没有引号的内容，这通常意味着返回的是一个对象。对象具有属性以及其他的很多优点，Accidental对象也不例外。因此，让我们创建一个新的变量来存储accidental"
   ]
  },
  {
   "cell_type": "code",
   "execution_count": 13,
   "metadata": {},
   "outputs": [],
   "source": [
    "acc = bflat.pitch.accidental"
   ]
  },
  {
   "cell_type": "markdown",
   "metadata": {},
   "source": [
    "我们将详细介绍Accidental对象的所有属性，这是其中两个比较重要的：`.alter`和`.displayLocation`。`.alter`将相当多地被使用，因为它可以显示此Note被Accidental改变了多少个半音 ："
   ]
  },
  {
   "cell_type": "code",
   "execution_count": 14,
   "metadata": {},
   "outputs": [
    {
     "data": {
      "text/plain": [
       "-1.0"
      ]
     },
     "execution_count": 14,
     "metadata": {},
     "output_type": "execute_result"
    }
   ],
   "source": [
    "acc.alter"
   ]
  },
  {
   "cell_type": "markdown",
   "metadata": {},
   "source": [
    "由于我们表示的是降音，`.alter`就是一个负数。\n",
    "\n",
    "注意：它不是整数，而是浮点数，这说明我们可以表示如1/4音之类的东西。\n",
    "\n",
    "回头看`acc = bflat.pitch.accidental`和`acc.alter`这两个内容。用了个`acc`来存储`bflat.pitch.accidental`，现在我们跳过这一步，直接用一行代码来查看我们需要的信息"
   ]
  },
  {
   "cell_type": "code",
   "execution_count": 15,
   "metadata": {},
   "outputs": [
    {
     "data": {
      "text/plain": [
       "-1.0"
      ]
     },
     "execution_count": 15,
     "metadata": {},
     "output_type": "execute_result"
    }
   ],
   "source": [
    "bflat.pitch.accidental.alter"
   ]
  },
  {
   "cell_type": "code",
   "execution_count": 16,
   "metadata": {},
   "outputs": [
    {
     "data": {
      "text/plain": [
       "'normal'"
      ]
     },
     "execution_count": 16,
     "metadata": {},
     "output_type": "execute_result"
    }
   ],
   "source": [
    "acc.displayLocation"
   ]
  },
  {
   "cell_type": "markdown",
   "metadata": {},
   "source": [
    "我们可以看到`displayLocation`属性的值是normal，由于acc表示的是bflat的子对象，因此当acc进行改变的时候，bflat的子属性也会跟着改变"
   ]
  },
  {
   "cell_type": "code",
   "execution_count": 17,
   "metadata": {},
   "outputs": [
    {
     "data": {
      "text/plain": [
       "'normal'"
      ]
     },
     "execution_count": 17,
     "metadata": {},
     "output_type": "execute_result"
    }
   ],
   "source": [
    "bflat.pitch.accidental.displayLocation"
   ]
  },
  {
   "cell_type": "code",
   "execution_count": 18,
   "metadata": {},
   "outputs": [
    {
     "data": {
      "text/plain": [
       "'above'"
      ]
     },
     "execution_count": 18,
     "metadata": {},
     "output_type": "execute_result"
    }
   ],
   "source": [
    "acc.displayLocation = 'above'\n",
    "bflat.pitch.accidental.displayLocation"
   ]
  },
  {
   "cell_type": "markdown",
   "metadata": {},
   "source": [
    "python的对象可以内置新的成员属性（虽然这样可能会导致对象变得混乱），比如我希望Note对象有`wasWrittenByStockhausen`属性，如果我们直接尝试访问的话，会得到以下错误："
   ]
  },
  {
   "cell_type": "code",
   "execution_count": 19,
   "metadata": {},
   "outputs": [
    {
     "ename": "AttributeError",
     "evalue": "'Note' object has no attribute 'wasWrittenByStockhausen'",
     "output_type": "error",
     "traceback": [
      "\u001b[1;31m---------------------------------------------------------------------------\u001b[0m",
      "\u001b[1;31mAttributeError\u001b[0m                            Traceback (most recent call last)",
      "\u001b[1;32m<ipython-input-19-fbb7070911f6>\u001b[0m in \u001b[0;36m<module>\u001b[1;34m\u001b[0m\n\u001b[1;32m----> 1\u001b[1;33m \u001b[0mbflat\u001b[0m\u001b[1;33m.\u001b[0m\u001b[0mwasWrittenByStockhausen\u001b[0m\u001b[1;33m\u001b[0m\u001b[0m\n\u001b[0m",
      "\u001b[1;31mAttributeError\u001b[0m: 'Note' object has no attribute 'wasWrittenByStockhausen'"
     ]
    }
   ],
   "source": [
    "bflat.wasWrittenByStockhausen"
   ]
  },
  {
   "cell_type": "markdown",
   "metadata": {},
   "source": [
    "但是，如果您设置该怪异属性的值，则可以在以后使用它"
   ]
  },
  {
   "cell_type": "code",
   "execution_count": 20,
   "metadata": {},
   "outputs": [
    {
     "name": "stdout",
     "output_type": "stream",
     "text": [
      "Hope you're enjoying Sirius!\n"
     ]
    }
   ],
   "source": [
    "bflat.wasWrittenByStockhausen = True\n",
    "f.wasWrittenByStockhausen = False\n",
    "if bflat.wasWrittenByStockhausen == True:\n",
    "    print(\"Hope you're enjoying Sirius!\")"
   ]
  },
  {
   "cell_type": "markdown",
   "metadata": {},
   "source": [
    "到目前为止，您可能已经厌恶了讨厌的编程，那就让我们看一看或者演奏这些音符。如果您已经安装了MusicXML阅读器，您可以键入`show()`来得到乐谱。\n",
    "\n",
    "**备注：**如果想在jupyter中显示的话，需要将`subconverters.py`文件中第891行的`os.system(musescoreRun)`改成`subprocess.run(musescoreRun)`，当然，这里还需要再加一句`import subprocess `\n",
    "\n",
    "\n",
    "Enjoy !"
   ]
  },
  {
   "cell_type": "code",
   "execution_count": 22,
   "metadata": {},
   "outputs": [
    {
     "data": {
      "image/png": "[encoded data removed]",
      "text/plain": [
       "<IPython.core.display.Image object>"
      ]
     },
     "metadata": {
      "image/png": {
       "height": 49,
       "width": 131
      }
     },
     "output_type": "display_data"
    }
   ],
   "source": [
    "f.show()"
   ]
  },
  {
   "cell_type": "markdown",
   "metadata": {},
   "source": [
    "在这里，我们将默认音符长度设置为四分音符，接下来我们会介绍更多的音符长度。这里我们也默认定义了一个谱号，以确保这确实是F5"
   ]
  },
  {
   "cell_type": "code",
   "execution_count": 23,
   "metadata": {},
   "outputs": [
    {
     "data": {
      "text/html": [
       "\n",
       "                <div id='midiPlayerDiv105'></div>\n",
       "                <link rel=\"stylesheet\" href=\"//cuthbertLab.github.io/music21j/css/m21.css\"\n",
       "                    type=\"text/css\" />\n",
       "                <script>\n",
       "                require.config({\n",
       "                    paths: {'music21': '//cuthbertLab.github.io/music21j/src/music21'}\n",
       "                });\n",
       "                require(['music21'], function() {\n",
       "                               mp = new music21.miditools.MidiPlayer();\n",
       "                               mp.addPlayer('#midiPlayerDiv105');\n",
       "                               mp.base64Load('data:audio/midi;base64,TVRoZAAAAAYAAQABBABNVHJrAAAAFgD/AwAA4ABAAJBNWogAgE0AiAD/LwA=');\n",
       "                        });\n",
       "                </script>"
      ],
      "text/plain": [
       "<IPython.core.display.HTML object>"
      ]
     },
     "metadata": {},
     "output_type": "display_data"
    }
   ],
   "source": [
    "f.show('midi')"
   ]
  },
  {
   "cell_type": "markdown",
   "metadata": {},
   "source": [
    "`.show()`是`Note`对象上的方法，而`.octave`是一个属性。所有方法后面要加括号，必要的时候要加上参数。例如，让我们通过给Bb再降低3个调，得到音符D"
   ]
  },
  {
   "cell_type": "code",
   "execution_count": 37,
   "metadata": {},
   "outputs": [
    {
     "data": {
      "text/plain": [
       "<music21.note.Note D>"
      ]
     },
     "execution_count": 37,
     "metadata": {},
     "output_type": "execute_result"
    }
   ],
   "source": [
    "d = bflat.transpose(\"M3\")\n",
    "d"
   ]
  },
  {
   "cell_type": "code",
   "execution_count": 38,
   "metadata": {},
   "outputs": [
    {
     "data": {
      "text/plain": [
       "<music21.note.Note B->"
      ]
     },
     "execution_count": 38,
     "metadata": {},
     "output_type": "execute_result"
    }
   ],
   "source": [
    "bflat"
   ]
  },
  {
   "cell_type": "markdown",
   "metadata": {},
   "source": [
    "`transpose()`方法会返回一个新的note.Note对象，表示在一定间隔内向上或者向下进行移调的操作。\n",
    "\n",
    "如果你想同时在transpose的时候也改变自身，只需要在函数内添加`inPlace = True`"
   ]
  },
  {
   "cell_type": "code",
   "execution_count": 39,
   "metadata": {},
   "outputs": [
    {
     "data": {
      "text/plain": [
       "<music21.note.Note E->"
      ]
     },
     "execution_count": 39,
     "metadata": {},
     "output_type": "execute_result"
    }
   ],
   "source": [
    "bflat.transpose(\"P4\",inPlace=True)\n",
    "bflat"
   ]
  },
  {
   "cell_type": "markdown",
   "metadata": {},
   "source": [
    "此时原来的数值d并不会发生改变(因为当bflat发生变化之后，他们就不再有内存的关联了)。如果想要回到原来的数值的话，我们对d进行两次降六度。"
   ]
  },
  {
   "cell_type": "code",
   "execution_count": 40,
   "metadata": {},
   "outputs": [
    {
     "data": {
      "text/plain": [
       "<music21.note.Note B--->"
      ]
     },
     "execution_count": 40,
     "metadata": {},
     "output_type": "execute_result"
    }
   ],
   "source": [
    "whatNoteIsThis = d.transpose('dd6')\n",
    "whatNoteIsThis"
   ]
  },
  {
   "cell_type": "markdown",
   "metadata": {},
   "source": [
    "这是一个之前没见过的符号，我们检查一下Note的`pitch.accidental.alter`以及`pitch.accidental.name`"
   ]
  },
  {
   "cell_type": "code",
   "execution_count": 41,
   "metadata": {},
   "outputs": [
    {
     "data": {
      "text/plain": [
       "-3.0"
      ]
     },
     "execution_count": 41,
     "metadata": {},
     "output_type": "execute_result"
    }
   ],
   "source": [
    "whatNoteIsThis.pitch.accidental.alter"
   ]
  },
  {
   "cell_type": "code",
   "execution_count": 42,
   "metadata": {},
   "outputs": [
    {
     "data": {
      "text/plain": [
       "'triple-flat'"
      ]
     },
     "execution_count": 42,
     "metadata": {},
     "output_type": "execute_result"
    }
   ],
   "source": [
    "whatNoteIsThis.pitch.accidental.name"
   ]
  },
  {
   "cell_type": "markdown",
   "metadata": {},
   "source": [
    "最后一件事：不是每一个音符都是`accident`的，比如单个的D就没有它，因此会返回None"
   ]
  },
  {
   "cell_type": "code",
   "execution_count": 44,
   "metadata": {},
   "outputs": [
    {
     "name": "stdout",
     "output_type": "stream",
     "text": [
      "None\n"
     ]
    }
   ],
   "source": [
    "print(d.pitch.accidental)"
   ]
  },
  {
   "cell_type": "markdown",
   "metadata": {},
   "source": [
    "这样也会导致`pitch.accidental.name`是空值，为了保证不会出错，我们可以用下面的判断来避免异常抛出"
   ]
  },
  {
   "cell_type": "code",
   "execution_count": 46,
   "metadata": {},
   "outputs": [],
   "source": [
    "if d.pitch.accidental is not None:\n",
    "    print(d.pitch.accidental.name)"
   ]
  },
  {
   "cell_type": "markdown",
   "metadata": {},
   "source": [
    "同理，d也可能没有`.pith`，我们需要做类似的检查。\n",
    "\n",
    "现在是时候休息一下了，让我们执行Rest"
   ]
  },
  {
   "cell_type": "code",
   "execution_count": 48,
   "metadata": {},
   "outputs": [
    {
     "data": {
      "image/png": "[encoded data removed]",
      "text/plain": [
       "<IPython.core.display.Image object>"
      ]
     },
     "metadata": {
      "image/png": {
       "height": 49,
       "width": 134
      }
     },
     "output_type": "display_data"
    }
   ],
   "source": [
    "r = note.Rest()\n",
    "r.show()"
   ]
  },
  {
   "cell_type": "code",
   "execution_count": null,
   "metadata": {},
   "outputs": [],
   "source": []
  }
 ],
 "metadata": {
  "kernelspec": {
   "display_name": "Python 3",
   "language": "python",
   "name": "python3"
  },
  "language_info": {
   "codemirror_mode": {
    "name": "ipython",
    "version": 3
   },
   "file_extension": ".py",
   "mimetype": "text/x-python",
   "name": "python",
   "nbconvert_exporter": "python",
   "pygments_lexer": "ipython3",
   "version": "3.5.2"
  }
 },
 "nbformat": 4,
 "nbformat_minor": 4
}
